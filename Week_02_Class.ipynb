{
  "nbformat": 4,
  "nbformat_minor": 0,
  "metadata": {
    "colab": {
      "name": "Week 02 Class.ipynb",
      "provenance": [],
      "collapsed_sections": [],
      "toc_visible": true
    },
    "kernelspec": {
      "name": "python3",
      "display_name": "Python 3"
    }
  },
  "cells": [
    {
      "cell_type": "markdown",
      "metadata": {
        "id": "IVijStwRXqOm"
      },
      "source": [
        "# Week 02 Class: Exercises"
      ]
    },
    {
      "cell_type": "markdown",
      "metadata": {
        "id": "iIXp1gtxEDGP"
      },
      "source": [
        "In this exercise, we will review python basics. "
      ]
    },
    {
      "cell_type": "markdown",
      "metadata": {
        "id": "p7g-vh9GXuHa"
      },
      "source": [
        "## Variables\n"
      ]
    },
    {
      "cell_type": "markdown",
      "metadata": {
        "id": "EtXJ1CbJfDMP"
      },
      "source": [
        "### Create variables"
      ]
    },
    {
      "cell_type": "markdown",
      "metadata": {
        "id": "Il7w4ZyJekgD"
      },
      "source": [
        "Let's start with a very simple exercise of creating new variables\n",
        "\n",
        "\n",
        "\n",
        "1.   Variable called var_a with value of 3\n",
        "2.   Variable called var_b with value of 100\n",
        "3.   String variable str_var_a with value of \"GV918\"\n",
        "4.   String variable str_var_a with value of \"Data for Social Data Science\"\n",
        "\n",
        "\n"
      ]
    },
    {
      "cell_type": "code",
      "metadata": {
        "id": "I-Uhpjn4fmlq"
      },
      "source": [
        "var_a = 3\n",
        "var_b = 100\n",
        "str_var_a = \"GV918\"\n",
        "str_var_b = \"Data for Social Data Science\""
      ],
      "execution_count": 1,
      "outputs": []
    },
    {
      "cell_type": "code",
      "metadata": {
        "id": "zJNr12Mibetd",
        "outputId": "79aae1ca-975a-478f-d845-2424610d3956",
        "colab": {
          "base_uri": "https://localhost:8080/",
          "height": 34
        }
      },
      "source": [
        "var_b"
      ],
      "execution_count": 2,
      "outputs": [
        {
          "output_type": "execute_result",
          "data": {
            "text/plain": [
              "100"
            ]
          },
          "metadata": {
            "tags": []
          },
          "execution_count": 2
        }
      ]
    },
    {
      "cell_type": "markdown",
      "metadata": {
        "id": "n4edwXaTfX5C"
      },
      "source": [
        "### Variable operations"
      ]
    },
    {
      "cell_type": "markdown",
      "metadata": {
        "id": "Jx-VgZXhft4_"
      },
      "source": [
        "\n",
        "\n",
        "*   Add var_a and var_b\n",
        "*   Subtract var_a from var_b\n",
        "*   Multiply var_a and var_b\n",
        "*   Divide var_b by var_a\n",
        "\n"
      ]
    },
    {
      "cell_type": "code",
      "metadata": {
        "id": "F38MqMvggGHY",
        "outputId": "670a3ce0-85af-4ee6-8e4c-2c41f382153f",
        "colab": {
          "base_uri": "https://localhost:8080/",
          "height": 34
        }
      },
      "source": [
        "var_a + var_b"
      ],
      "execution_count": 3,
      "outputs": [
        {
          "output_type": "execute_result",
          "data": {
            "text/plain": [
              "103"
            ]
          },
          "metadata": {
            "tags": []
          },
          "execution_count": 3
        }
      ]
    },
    {
      "cell_type": "code",
      "metadata": {
        "id": "K_DroRmOcUaJ",
        "outputId": "e6df504c-2828-4c4a-f93b-fb0b57d4a6fa",
        "colab": {
          "base_uri": "https://localhost:8080/",
          "height": 34
        }
      },
      "source": [
        "var_a - var_b"
      ],
      "execution_count": 4,
      "outputs": [
        {
          "output_type": "execute_result",
          "data": {
            "text/plain": [
              "-97"
            ]
          },
          "metadata": {
            "tags": []
          },
          "execution_count": 4
        }
      ]
    },
    {
      "cell_type": "code",
      "metadata": {
        "id": "VVqAYe8hccK_",
        "outputId": "0145774d-7b10-4708-eefa-e7926124addb",
        "colab": {
          "base_uri": "https://localhost:8080/",
          "height": 34
        }
      },
      "source": [
        "var_a * var_b"
      ],
      "execution_count": 5,
      "outputs": [
        {
          "output_type": "execute_result",
          "data": {
            "text/plain": [
              "300"
            ]
          },
          "metadata": {
            "tags": []
          },
          "execution_count": 5
        }
      ]
    },
    {
      "cell_type": "code",
      "metadata": {
        "id": "bbC4u67WcbVj",
        "outputId": "b9858596-c59f-4bd7-e5c8-a0984d18005f",
        "colab": {
          "base_uri": "https://localhost:8080/",
          "height": 34
        }
      },
      "source": [
        "var_b / var_a"
      ],
      "execution_count": 6,
      "outputs": [
        {
          "output_type": "execute_result",
          "data": {
            "text/plain": [
              "33.333333333333336"
            ]
          },
          "metadata": {
            "tags": []
          },
          "execution_count": 6
        }
      ]
    },
    {
      "cell_type": "markdown",
      "metadata": {
        "id": "daqr2BXlRO_u"
      },
      "source": [
        "## Saving on Github\n",
        "\n",
        "- Before going to the next section, let's save the work on github."
      ]
    },
    {
      "cell_type": "markdown",
      "metadata": {
        "id": "u0HUK1lQbEb4"
      },
      "source": [
        "## Lists"
      ]
    },
    {
      "cell_type": "markdown",
      "metadata": {
        "id": "WW78ZY6yjbT6"
      },
      "source": [
        "### Create lists"
      ]
    },
    {
      "cell_type": "markdown",
      "metadata": {
        "id": "Mdq_SIg9gOMg"
      },
      "source": [
        "1. Create a list, list_a, with values of 1, 3, 4, 5, 9, 2, 4.5\n",
        "2. Create a list, list_b, with words from \"this is a simple string list\" \n",
        "  - You can type all or use `*.split` method"
      ]
    },
    {
      "cell_type": "code",
      "metadata": {
        "id": "QllZLPMabmsD"
      },
      "source": [
        "list_a = [1, 3, 4, 5, 9, 2, 4.5]"
      ],
      "execution_count": 7,
      "outputs": []
    },
    {
      "cell_type": "code",
      "metadata": {
        "id": "_M2QIbAsdOfU"
      },
      "source": [
        "my_str = \"this is a simple string list\""
      ],
      "execution_count": 8,
      "outputs": []
    },
    {
      "cell_type": "code",
      "metadata": {
        "id": "-smWjQPSdY8T"
      },
      "source": [
        "list_b = my_str.split(\" \")"
      ],
      "execution_count": 9,
      "outputs": []
    },
    {
      "cell_type": "code",
      "metadata": {
        "id": "nK0f3bp3d7al",
        "outputId": "32f81dd9-b1e1-4298-922b-acbfc7283b77",
        "colab": {
          "base_uri": "https://localhost:8080/",
          "height": 34
        }
      },
      "source": [
        "list_b"
      ],
      "execution_count": 10,
      "outputs": [
        {
          "output_type": "execute_result",
          "data": {
            "text/plain": [
              "['this', 'is', 'a', 'simple', 'string', 'list']"
            ]
          },
          "metadata": {
            "tags": []
          },
          "execution_count": 10
        }
      ]
    },
    {
      "cell_type": "markdown",
      "metadata": {
        "id": "CPo-xxVmjfUL"
      },
      "source": [
        "### Slicing lists"
      ]
    },
    {
      "cell_type": "markdown",
      "metadata": {
        "id": "XZyEmoCpjjdU"
      },
      "source": [
        "- From the first list, extract a sublist with elements of:\n",
        "    -   1, 3, 4\n",
        "    -   9, 2, 4.5\n",
        "    -   4, 5, 9\n"
      ]
    },
    {
      "cell_type": "code",
      "metadata": {
        "id": "5JTxUTdnjep3",
        "outputId": "44c1fb81-443b-41e4-bbff-55a2f4938c20",
        "colab": {
          "base_uri": "https://localhost:8080/",
          "height": 34
        }
      },
      "source": [
        "list_a[0:3]"
      ],
      "execution_count": 11,
      "outputs": [
        {
          "output_type": "execute_result",
          "data": {
            "text/plain": [
              "[1, 3, 4]"
            ]
          },
          "metadata": {
            "tags": []
          },
          "execution_count": 11
        }
      ]
    },
    {
      "cell_type": "code",
      "metadata": {
        "id": "ZLZ4wV7keLQc",
        "outputId": "654ffdda-6152-45a9-e393-819da648b039",
        "colab": {
          "base_uri": "https://localhost:8080/",
          "height": 34
        }
      },
      "source": [
        "list_a[4:7]"
      ],
      "execution_count": 12,
      "outputs": [
        {
          "output_type": "execute_result",
          "data": {
            "text/plain": [
              "[9, 2, 4.5]"
            ]
          },
          "metadata": {
            "tags": []
          },
          "execution_count": 12
        }
      ]
    },
    {
      "cell_type": "markdown",
      "metadata": {
        "id": "egyAtr0slWVG"
      },
      "source": [
        "## Manipulating lists"
      ]
    },
    {
      "cell_type": "markdown",
      "metadata": {
        "id": "vZQJxYrbldyl"
      },
      "source": [
        "- Append an element (e.g. 100) to list_a\n",
        "- Replace the second element of list_a to 12"
      ]
    },
    {
      "cell_type": "code",
      "metadata": {
        "id": "rJ9u0rbXEyzA"
      },
      "source": [
        "list_a.append(100)"
      ],
      "execution_count": 13,
      "outputs": []
    },
    {
      "cell_type": "code",
      "metadata": {
        "id": "ww4BWzVqecMu"
      },
      "source": [
        "list_a[1] = 12"
      ],
      "execution_count": 14,
      "outputs": []
    },
    {
      "cell_type": "markdown",
      "metadata": {
        "id": "Zf1GnnLE5ECS"
      },
      "source": [
        "### Concatenate lists"
      ]
    },
    {
      "cell_type": "markdown",
      "metadata": {
        "id": "jAgDA5GL5HuC"
      },
      "source": [
        "- Concatenate list_a and list_b\n",
        "- Use `+`"
      ]
    },
    {
      "cell_type": "code",
      "metadata": {
        "id": "MFA23E1H5HO2"
      },
      "source": [
        "list_c = list_a + list_b"
      ],
      "execution_count": 15,
      "outputs": []
    },
    {
      "cell_type": "code",
      "metadata": {
        "id": "9y6MNOTKepS3",
        "outputId": "f675af88-3f36-4daf-9e33-314eabbd232b",
        "colab": {
          "base_uri": "https://localhost:8080/",
          "height": 34
        }
      },
      "source": [
        "list_c"
      ],
      "execution_count": 16,
      "outputs": [
        {
          "output_type": "execute_result",
          "data": {
            "text/plain": [
              "[1, 12, 4, 5, 9, 2, 4.5, 100, 'this', 'is', 'a', 'simple', 'string', 'list']"
            ]
          },
          "metadata": {
            "tags": []
          },
          "execution_count": 16
        }
      ]
    },
    {
      "cell_type": "markdown",
      "metadata": {
        "id": "Y_Ovr2NB7R_V"
      },
      "source": [
        "### Copying lists"
      ]
    },
    {
      "cell_type": "markdown",
      "metadata": {
        "id": "mYaM6Za77cq1"
      },
      "source": [
        "Do the following operations\n",
        "- Assign `list_a` to `list_a2`\n",
        "- Change the value of `list_a2[0]` to 7\n",
        "- Check the value of `list_a` and `list_a2`\n",
        "\n",
        "What do you find? "
      ]
    },
    {
      "cell_type": "code",
      "metadata": {
        "id": "0l6ZdhMiE1NK"
      },
      "source": [
        "list_a2 = list_a\n",
        "list_a2[0] = 7"
      ],
      "execution_count": 17,
      "outputs": []
    },
    {
      "cell_type": "code",
      "metadata": {
        "id": "Y_M92MCXe_qP",
        "outputId": "61055ed6-ec44-4cdf-f191-65a36eb7bc6e",
        "colab": {
          "base_uri": "https://localhost:8080/",
          "height": 34
        }
      },
      "source": [
        "list_a"
      ],
      "execution_count": 18,
      "outputs": [
        {
          "output_type": "execute_result",
          "data": {
            "text/plain": [
              "[7, 12, 4, 5, 9, 2, 4.5, 100]"
            ]
          },
          "metadata": {
            "tags": []
          },
          "execution_count": 18
        }
      ]
    },
    {
      "cell_type": "code",
      "metadata": {
        "id": "9WmbX46BfVqG",
        "outputId": "fafa22d5-3a1e-4ae4-f29e-9a514e7200d9",
        "colab": {
          "base_uri": "https://localhost:8080/",
          "height": 34
        }
      },
      "source": [
        "list_a3 = list_a.copy()\n",
        "list_a3[0] = 10000\n",
        "list_a"
      ],
      "execution_count": 19,
      "outputs": [
        {
          "output_type": "execute_result",
          "data": {
            "text/plain": [
              "[7, 12, 4, 5, 9, 2, 4.5, 100]"
            ]
          },
          "metadata": {
            "tags": []
          },
          "execution_count": 19
        }
      ]
    },
    {
      "cell_type": "code",
      "metadata": {
        "id": "koI4Wz1ufff2",
        "outputId": "bcaad492-bcb4-4136-f19c-32d6c18cdddf",
        "colab": {
          "base_uri": "https://localhost:8080/",
          "height": 34
        }
      },
      "source": [
        "list_a3"
      ],
      "execution_count": 20,
      "outputs": [
        {
          "output_type": "execute_result",
          "data": {
            "text/plain": [
              "[10000, 12, 4, 5, 9, 2, 4.5, 100]"
            ]
          },
          "metadata": {
            "tags": []
          },
          "execution_count": 20
        }
      ]
    },
    {
      "cell_type": "markdown",
      "metadata": {
        "id": "kF_f4TLg-RAT"
      },
      "source": [
        "## Dictionary"
      ]
    },
    {
      "cell_type": "markdown",
      "metadata": {
        "id": "LBbTHliu-U2A"
      },
      "source": [
        "- create a dictionary with the follwoing key-value pairs\n",
        "    *   a: 10\n",
        "    *   b: 20\n",
        "    *   c: 70\n",
        "- add some new key and value\n",
        "\n"
      ]
    },
    {
      "cell_type": "code",
      "metadata": {
        "id": "myq61b4x-i2c",
        "outputId": "9696d9d3-8957-434e-b5d3-0e37db1812dd",
        "colab": {
          "base_uri": "https://localhost:8080/",
          "height": 34
        }
      },
      "source": [
        "## Creating new dicitonary\n",
        "my_dic = {\"a\": 10, \"b\": 20, \"c\": 70}\n",
        "my_dic"
      ],
      "execution_count": 21,
      "outputs": [
        {
          "output_type": "execute_result",
          "data": {
            "text/plain": [
              "{'a': 10, 'b': 20, 'c': 70}"
            ]
          },
          "metadata": {
            "tags": []
          },
          "execution_count": 21
        }
      ]
    },
    {
      "cell_type": "code",
      "metadata": {
        "id": "F9Qzeu2ygBPB",
        "outputId": "bbb4b90e-0448-4a70-dc4a-1819c076be58",
        "colab": {
          "base_uri": "https://localhost:8080/",
          "height": 34
        }
      },
      "source": [
        "## create new key 'd' with value \"new value\"\n",
        "my_dic['d'] = \"new value\"\n",
        "## Print it\n",
        "my_dic"
      ],
      "execution_count": 22,
      "outputs": [
        {
          "output_type": "execute_result",
          "data": {
            "text/plain": [
              "{'a': 10, 'b': 20, 'c': 70, 'd': 'new value'}"
            ]
          },
          "metadata": {
            "tags": []
          },
          "execution_count": 22
        }
      ]
    },
    {
      "cell_type": "markdown",
      "metadata": {
        "id": "69H-MRgibxQe"
      },
      "source": [
        "## (Optional) String operation"
      ]
    },
    {
      "cell_type": "markdown",
      "metadata": {
        "id": "xciWhwD-hmd7"
      },
      "source": [
        "### Concatenation"
      ]
    },
    {
      "cell_type": "markdown",
      "metadata": {
        "id": "CyHZ3qdchNTf"
      },
      "source": [
        "Let's do some string operation"
      ]
    },
    {
      "cell_type": "code",
      "metadata": {
        "id": "SuTa8GiWbyy7"
      },
      "source": [
        "str_1 = \"Hello\"\n",
        "str_2 = \"world\"\n",
        "str_3 = \"!\""
      ],
      "execution_count": 23,
      "outputs": []
    },
    {
      "cell_type": "markdown",
      "metadata": {
        "id": "EUySRJKhhZen"
      },
      "source": [
        "How to concateneate them to craete \"Hello world?\"\n",
        "[https://www.w3schools.com/python/python_strings.asp](https://www.w3schools.com/python/python_strings.asp)"
      ]
    },
    {
      "cell_type": "code",
      "metadata": {
        "id": "u1Xs5Xbnhiiw",
        "outputId": "c40bf06d-48a8-47e4-edad-260b49f5cae9",
        "colab": {
          "base_uri": "https://localhost:8080/",
          "height": 35
        }
      },
      "source": [
        "# You can concatenate strings with '+' sign in python\n",
        "str_1 + ' ' + str_2 + str_3"
      ],
      "execution_count": 24,
      "outputs": [
        {
          "output_type": "execute_result",
          "data": {
            "application/vnd.google.colaboratory.intrinsic+json": {
              "type": "string"
            },
            "text/plain": [
              "'Hello world!'"
            ]
          },
          "metadata": {
            "tags": []
          },
          "execution_count": 24
        }
      ]
    },
    {
      "cell_type": "markdown",
      "metadata": {
        "id": "AaOIR7PlhqaF"
      },
      "source": [
        "### Formatting\n",
        "\n",
        "Read the section of **String Format** and try to generate \"Today is 13-10-2020\""
      ]
    },
    {
      "cell_type": "code",
      "metadata": {
        "id": "XMN4BABMiHdc"
      },
      "source": [
        "year = 2020\n",
        "month = 10\n",
        "date = 13\n",
        "fill_str = \"Today is {}-{}-{}\" ## this part has to be changed"
      ],
      "execution_count": 25,
      "outputs": []
    },
    {
      "cell_type": "code",
      "metadata": {
        "id": "Nh1KI7H4gyQQ",
        "outputId": "ebf674d3-2c58-4ece-d62c-4b2df24f8b1e",
        "colab": {
          "base_uri": "https://localhost:8080/",
          "height": 35
        }
      },
      "source": [
        "## format() is a very handy method when you need text output in python. \n",
        "## Here, you can do:\n",
        "fill_str.format(year, month, date)"
      ],
      "execution_count": 26,
      "outputs": [
        {
          "output_type": "execute_result",
          "data": {
            "application/vnd.google.colaboratory.intrinsic+json": {
              "type": "string"
            },
            "text/plain": [
              "'Today is 2020-10-13'"
            ]
          },
          "metadata": {
            "tags": []
          },
          "execution_count": 26
        }
      ]
    },
    {
      "cell_type": "code",
      "metadata": {
        "id": "fhdE68GDhAMN"
      },
      "source": [
        ""
      ],
      "execution_count": 26,
      "outputs": []
    }
  ]
}